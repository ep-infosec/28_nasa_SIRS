{
 "cells": [
  {
   "cell_type": "markdown",
   "id": "crucial-error",
   "metadata": {},
   "source": [
    "# Use of Incomplete Fourier Transform to Fill Gaps in Time Series Data\n",
    "\n",
    "Bernard J. Rauscher<br>\n",
    "NASA Goddard Space Fligth Center, Observational Cosmology Laboratory, Greenbelt, MD 20771\n",
    "\n",
    "28 September 2021\n",
    "\n",
    "## 1. INTRODUCTION\n",
    "\n",
    "This document is an executable python-3 Jupyter notebook. Its purpose is to explain the incomplete Fourier transform can be used to fill in gaps in WFI time series read noise data. Gaps can occur for many reasons. Some include planned gaps at the ends of detector rows, known \"bad pixels\", and cosmic ray hits.\n",
    "\n",
    "The incomplete Fourier transform (as defined here) uses a subset of all possible Fourier basis vectors to model time series data keeping the most important frequencies. At L2, of order 10% of Roman's pixels will be disturbed by cosmic rays in a typical exposure. For this reason, our model is built by least squares fitting $<90\\%$ of all possible Fourier basis vectors to the data.\n",
    "\n",
    "In practice, we use much less than 90%. From previous work, we know that the lowest and highest approximately 1 kHz tend to be the most imporant frequency ranges. We therefore omit mid-range frequencies from the fit.\n",
    "\n",
    "This description is intended to be an intuitive introduction for Roman scientists and engineers. The final \"proof\" that it is sound will be to show by test that Roman Reference Correction works as expected."
   ]
  },
  {
   "cell_type": "markdown",
   "id": "stone-monroe",
   "metadata": {},
   "source": [
    "## 2. DISCUSSION"
   ]
  },
  {
   "cell_type": "code",
   "execution_count": 1,
   "id": "designed-vancouver",
   "metadata": {},
   "outputs": [],
   "source": [
    "# Standard imports\n",
    "import numpy as np\n",
    "import matplotlib.pyplot as plt\n",
    "from astropy.io import fits;"
   ]
  },
  {
   "cell_type": "raw",
   "id": "known-jerusalem",
   "metadata": {},
   "source": [
    "# ***** Ignore this cell. This just makes the sample data *****\n",
    "# It should already be set to not execute.\n",
    "\n",
    "# Extract one CDS from a long dark\n",
    "with fits.open('/local/data/racy1/brausche/Roman/H4RG/HyC/'+\\\n",
    "               '20663_20666_20669_20496/'+\\\n",
    "               '20190913_90k_1p1m0p1_noi_20663_005.fits') as hdul:\n",
    "    Δ = np.float64(hdul[2].data) - np.float64(hdul[1].data)\n",
    "    \n",
    "# Get just output #1 (zero offset)\n",
    "Δ = Δ[:,128:256]\n",
    "\n",
    "# Trim off the reference rows\n",
    "Δ = Δ[4:-4]\n",
    "\n",
    "# Add a tiny amount of noise so that I can use zero to flag outliers.\n",
    "# there are other ways to do this. This one is easy.\n",
    "Δ += np.random.normal(scale=1.e-4, size=(4088,128))\n",
    "\n",
    "# Flip it around so that time increases from left to right. In\n",
    "# Teledyne's HxRG detectors, the outputs alternate readout directions.\n",
    "Δ = np.fliplr(Δ)\n",
    "\n",
    "# There are always a few statistical outliers. Flag 2% (a wild guess)\n",
    "# bad by setting them =0.0. Let these be the highest and lowest 5233 pixels.\n",
    "good_values = np.sort(Δ.flatten())\n",
    "min = good_values[5233]\n",
    "max = good_values[-5234]\n",
    "Δ = np.where(np.logical_and(min<=Δ,Δ<=max), Δ, 0.)\n",
    "\n",
    "# Tack on new line overhead. I'm assuming 7 pixel times for now.\n",
    "Δ = np.concatenate((Δ, np.zeros((4088,7), np.float64)), axis=1)\n",
    "\n",
    "# Keep just 8 rows for presentation purposes\n",
    "Δ = Δ[:8]\n",
    "\n",
    "# Save\n",
    "fits.PrimaryHDU(Δ).writeto('.irfft_sample_data.fits', overwrite=True);"
   ]
  },
  {
   "cell_type": "markdown",
   "id": "private-debut",
   "metadata": {},
   "source": [
    "## 2.2 Read in and Plot Sample Data with Gaps"
   ]
  },
  {
   "cell_type": "code",
   "execution_count": 2,
   "id": "extraordinary-manitoba",
   "metadata": {},
   "outputs": [
    {
     "data": {
      "image/png": "[encoded data removed]",
      "text/plain": [
       "<Figure size 432x288 with 1 Axes>"
      ]
     },
     "metadata": {
      "needs_background": "light"
     },
     "output_type": "display_data"
    }
   ],
   "source": [
    "# Import sample data\n",
    "with fits.open('.irfft_sample_data.fits') as hdul:\n",
    "    d = hdul[0].data\n",
    "    \n",
    "# Reformat as a time series\n",
    "d = d.flatten()\n",
    "\n",
    "# Plot. Gaps are set =0.0\n",
    "x = np.arange(len(d))\n",
    "plt.plot(x[d!=0.], d[d!=0.], 'o', alpha=.3)\n",
    "plt.plot(x[d==0.], d[d==0.], 'o', alpha=1.)\n",
    "plt.xlabel('Step in readout pattern')\n",
    "plt.ylabel('Signal (DN)')\n",
    "plt.xlim((0,140));"
   ]
  },
  {
   "cell_type": "markdown",
   "id": "mature-validation",
   "metadata": {},
   "source": [
    "## 2.2. Use Incomplete Real Fourier Transform to Fill Gaps\n",
    "\n",
    "Both numpy and Julia's FFTW library use the same Fourier transform,\n",
    "\n",
    "<center>$Y_k=\\sum_{j=0}^{n-1}X_j e^{2\\pi j k \\sqrt{-1}/n}.\\hspace{18pt}k\\in\\{0,1,\\dots n/2\\}\\hspace{18pt}(1)$</center>\n",
    "\n",
    "Here $n$ is the number of time steps in the clocking pattern. By inspection, the basis vectors are,\n",
    "\n",
    "<center>$\\mathbf{B}_k^j=e^{2\\pi j k \\sqrt{-1}/n}.\\hspace{18pt}(2)$</center>\n",
    "\n",
    "In Eq. 2, the subscript $k$ is covariant. It identifies the column in the matrix $\\mathbf{B}$. The index $j$ is contravariant. By convention, it identifies with the row index in the matrix. Our Incomplete Real Fourier Transform gives the best least squares projection of $\\mathbf{B}$ onto the data, $\\mathbf{d}$,\n",
    "\n",
    "<center>$\\mathscr{d} = \\mathbf{B}^+ \\mathbf{d},\\hspace{18pt}(3)$</center>\n",
    "\n",
    "where \"$^+$\" denotes the Moore-Penrose inverse.\n",
    "\n",
    "In order for the least squares solution of Eq. 3 to exist, we require that the matrix $\\mathbf{B}$ have fewer colunns than the vector $\\mathbf{d}$ has rows. From previous work with Roman detectors, we know that the most important frequences are the lowest and highest 1 kHz."
   ]
  },
  {
   "cell_type": "code",
   "execution_count": 3,
   "id": "monetary-gates",
   "metadata": {},
   "outputs": [],
   "source": [
    "n = len(d)\n",
    "𝒇 = np.fft.rfftfreq(len(d), d=5.e-6) # Fourier frequencies"
   ]
  },
  {
   "cell_type": "markdown",
   "id": "compound-mustang",
   "metadata": {},
   "source": [
    "By inspection, these are about the lowest and highest 8 frequencies. We must compute he values of these vectors at all the \"good\" data points. By inspection, the amplitude is close to zero at other frequencies."
   ]
  },
  {
   "cell_type": "code",
   "execution_count": 4,
   "id": "qualified-westminster",
   "metadata": {},
   "outputs": [],
   "source": [
    "n_keep = 8                   # Keep this many frequencies at each end\n",
    "p_gd = d != 0.               # Good samples\n",
    "p_bd = np.logical_not(p_gd)  # Bad samples\n",
    "\n",
    "# Create vectors of j and k values for Eq. 2\n",
    "j = np.arange(n)[p_gd]                         # J values for all the good samples\n",
    "k = np.arange(n//2+1)                          # All frequencies\n",
    "k = np.concatenate((k[:n_keep],k[-n_keep:]))   # Only those for the lowest and highest\n",
    "\n",
    "# An empty B matrix\n",
    "B = np.empty((np.sum(p_gd),2*n_keep), dtype=np.complex64)\n",
    "\n",
    "# Fill in B\n",
    "for _j in np.arange(len(j)):\n",
    "    for _k in np.arange(len(k)):\n",
    "        B[_j,_k] = np.exp(2*np.pi*j[_j]*k[_k]*1J/n)\n",
    "        \n",
    "# Compute its Moore-Penrose inverse\n",
    "pinvB = np.linalg.pinv(B)"
   ]
  },
  {
   "cell_type": "markdown",
   "id": "portuguese-amount",
   "metadata": {},
   "source": [
    "As a sanity check, the rows of pinvB should look like sines and cosines except for when 𝒇 = 0 Hz. There will be some imperfections on account of the gaps. Plot a few.\n",
    "\n",
    "The sine and cosine behavior will be easy to see at low frequency. At high frequency, it is harder to pick out because the wavelength is comparable to the time spacing."
   ]
  },
  {
   "cell_type": "code",
   "execution_count": 5,
   "id": "civilian-winning",
   "metadata": {},
   "outputs": [
    {
     "data": {
      "image/png": "[encoded data removed]",
      "text/plain": [
       "<Figure size 432x288 with 1 Axes>"
      ]
     },
     "metadata": {
      "needs_background": "light"
     },
     "output_type": "display_data"
    }
   ],
   "source": [
    "r = 1 # Plot this row\n",
    "plt.plot(np.real(pinvB[r]), '-')\n",
    "plt.plot(np.imag(pinvB[r]), '-')\n",
    "plt.xlabel('Row in basis matrix')\n",
    "plt.ylabel('Basis vector value');"
   ]
  },
  {
   "cell_type": "markdown",
   "id": "expired-construction",
   "metadata": {},
   "source": [
    "Compute the Incomplete Real Fourier Transform of our data."
   ]
  },
  {
   "cell_type": "code",
   "execution_count": 6,
   "id": "following-navigator",
   "metadata": {},
   "outputs": [],
   "source": [
    "irft_d = np.matmul(pinvB, d[p_gd])"
   ]
  },
  {
   "cell_type": "markdown",
   "id": "amber-rouge",
   "metadata": {},
   "source": [
    "To model the data, "
   ]
  },
  {
   "cell_type": "code",
   "execution_count": 7,
   "id": "weekly-functionality",
   "metadata": {},
   "outputs": [],
   "source": [
    "rfft = np.zeros((n//2+1), dtype=np.complex64)\n",
    "rfft[:n_keep]  = irft_d[:n_keep]\n",
    "rfft[-n_keep:] = irft_d[-n_keep:]"
   ]
  },
  {
   "cell_type": "code",
   "execution_count": 8,
   "id": "physical-collector",
   "metadata": {},
   "outputs": [],
   "source": [
    "dd = n * np.fft.irfft(rfft) # See numpy documentation for normalization"
   ]
  },
  {
   "cell_type": "code",
   "execution_count": 9,
   "id": "square-angle",
   "metadata": {},
   "outputs": [
    {
     "data": {
      "image/png": "[encoded data removed]",
      "text/plain": [
       "<Figure size 432x288 with 1 Axes>"
      ]
     },
     "metadata": {
      "needs_background": "light"
     },
     "output_type": "display_data"
    }
   ],
   "source": [
    "plt.plot(x[p_gd], d[p_gd], 'o', alpha=.7)\n",
    "plt.plot(x[p_bd], dd[p_bd], 'o', alpha=.7)\n",
    "plt.xlim(132-64, 132+64)\n",
    "plt.xlabel('Step in readout pattern')\n",
    "plt.ylabel('Signal (DN)');"
   ]
  },
  {
   "cell_type": "code",
   "execution_count": 10,
   "id": "mechanical-weather",
   "metadata": {},
   "outputs": [
    {
     "data": {
      "text/plain": [
       "[<matplotlib.lines.Line2D at 0x7fce5b839358>]"
      ]
     },
     "execution_count": 10,
     "metadata": {},
     "output_type": "execute_result"
    },
    {
     "data": {
      "image/png": "[encoded data removed]",
      "text/plain": [
       "<Figure size 432x288 with 1 Axes>"
      ]
     },
     "metadata": {
      "needs_background": "light"
     },
     "output_type": "display_data"
    }
   ],
   "source": [
    "plt.plot(np.abs(irft_d), 'o')"
   ]
  },
  {
   "cell_type": "code",
   "execution_count": null,
   "id": "starting-confidence",
   "metadata": {},
   "outputs": [],
   "source": []
  }
 ],
 "metadata": {
  "kernelspec": {
   "display_name": "Python 3",
   "language": "python",
   "name": "python3"
  },
  "language_info": {
   "codemirror_mode": {
    "name": "ipython",
    "version": 3
   },
   "file_extension": ".py",
   "mimetype": "text/x-python",
   "name": "python",
   "nbconvert_exporter": "python",
   "pygments_lexer": "ipython3",
   "version": "3.6.12"
  }
 },
 "nbformat": 4,
 "nbformat_minor": 5
}
