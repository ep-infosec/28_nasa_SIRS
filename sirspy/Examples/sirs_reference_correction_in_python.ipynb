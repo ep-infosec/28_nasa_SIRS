{
 "cells": [
  {
   "cell_type": "markdown",
   "metadata": {},
   "source": [
    "# Nancy Grace Roman Space Telescope<br>SIRS Reference Correction in Python\n",
    "\n",
    "Bernard J. Rauscher<br>\n",
    "NASA Goddard Space Flight Center\n",
    "\n",
    "12 April 2021\n",
    "\n",
    "e-Mail: Bernard.J.Rauscher@nasa.gov\n",
    "\n",
    "The purpose of this notebook is to show how to apply SIRS reference correction using python-3 if a calibration files is available. \n",
    "\n",
    "We originally wrote SIRS in Julia because computing $\\mathbf{\\alpha}$ and $\\mathbf{\\beta}$ from training data can be time consuming. However, once the frequency dependent weight vectors are known, using them to make a reference correction is fairly quick. This notebook shows how to reference correct one up-the-ramp sampled exposure."
   ]
  },
  {
   "cell_type": "markdown",
   "metadata": {},
   "source": [
    "Julia Data Format (JLD) is a dialect of HDF5. For purposes of reading the calibration files into python, they can be treated as HDF5."
   ]
  },
  {
   "cell_type": "code",
   "execution_count": 1,
   "metadata": {},
   "outputs": [],
   "source": [
    "# Standard packages\n",
    "import numpy as np\n",
    "from astropy.io import fits\n",
    "\n",
    "# Load SIRS python package\n",
    "import sirspy"
   ]
  },
  {
   "cell_type": "code",
   "execution_count": 2,
   "metadata": {},
   "outputs": [],
   "source": [
    "# Here is the SIRS calibration file for H4RG S/N 20663\n",
    "sirs_file = '/att/gpfsfs/briskfs01/ppl/brausche/roman_caldir/SIRS_Results_2/'+\\\n",
    "                '2021-03-19T12:18:18_HyC_20663_95.0K_1.0V_SIRS.jld'\n",
    "\n",
    "# Here is a sampled up-the-ramp dark from the same H4RG and test set\n",
    "data_file = '/att/gpfsfs/briskfs01/project/wfirst/H4RG/HyC/'+\\\n",
    "                '20663_20666_20669_20496/20190914_95k_1p1m0p1_noise_20663_005.fits'"
   ]
  },
  {
   "cell_type": "markdown",
   "metadata": {},
   "source": [
    "We now have everything that we need to reference correct an exposure from H4RG 20663. The following duplicates functionality that is built into the SIRS package in Julia. The intent here is to explain how to do it in python. This can serve as the basis for more customized python code."
   ]
  },
  {
   "cell_type": "code",
   "execution_count": 3,
   "metadata": {},
   "outputs": [],
   "source": [
    "# Instantiate the SIRS\n",
    "sirs = sirspy.SIRS(sirs_file)"
   ]
  },
  {
   "cell_type": "markdown",
   "metadata": {},
   "source": [
    "Begin by duplicating Fig. 3, panels a) and c) from the JATIS article. This demonstrates that we have correctly imported $\\mathbf{\\alpha}$ and $\\mathbf{\\beta}$. "
   ]
  },
  {
   "cell_type": "code",
   "execution_count": 4,
   "metadata": {},
   "outputs": [
    {
     "data": {
      "image/png": "[encoded data removed]",
      "text/plain": [
       "<Figure size 432x288 with 2 Axes>"
      ]
     },
     "metadata": {
      "needs_background": "light"
     },
     "output_type": "display_data"
    }
   ],
   "source": [
    "plt = sirs.plot(15)\n",
    "plt.show()"
   ]
  },
  {
   "cell_type": "markdown",
   "metadata": {},
   "source": [
    "Read in some data and reference correct. Do both SIRS and rowsonly for comparison."
   ]
  },
  {
   "cell_type": "code",
   "execution_count": 5,
   "metadata": {},
   "outputs": [],
   "source": [
    "# The files on ADAPT are 4-dimensional. The data\n",
    "# are in hdu1 and the 0th dimension is empty\n",
    "with fits.open(data_file) as hdul:\n",
    "    D1 = -np.float64(hdul[1].data[0]) # Integrate up\n",
    "    D2 = D1.copy()\n",
    "    \n",
    "# Legacy reference correct D1. Just hardcode it\n",
    "# since we know what the file is (H4RG; 60 frames)\n",
    "for z in np.arange(60):\n",
    "    for op in np.arange(32):\n",
    "        x0 = op * sirs.xsize\n",
    "        x1 = x0 + sirs.xsize\n",
    "        ref = np.mean(np.sort(D1[z,4093:4095,x0:x1].flatten())\\\n",
    "                          [sirs.discard:-sirs.discard])\n",
    "        D1[z,:,x0:x1] -= ref\n",
    "        \n",
    "# SIRS reference correct D2\n",
    "sirs.refcor(D2)"
   ]
  },
  {
   "cell_type": "markdown",
   "metadata": {},
   "source": [
    "To show the effect, fit and save slope images."
   ]
  },
  {
   "cell_type": "code",
   "execution_count": 6,
   "metadata": {},
   "outputs": [],
   "source": [
    "# Make a Legendre basis matrix to do fitting. Hard\n",
    "# code this since we know that the file has 60 frames\n",
    "# and we only want to fit for the offset and slope.\n",
    "L = np.zeros((60,2), dtype=np.float)\n",
    "x = np.arange(-1,+1+2/59,2/59) # x-values for Legendre polynomials\n",
    "L[:,0] = np.polynomial.legendre.legval(x,[1,0]) # Offset\n",
    "L[:,1] = np.polynomial.legendre.legval(x,[0,1]) # Slope\n",
    "pinv_L = np.linalg.pinv(L) # This does the actual fitting"
   ]
  },
  {
   "cell_type": "code",
   "execution_count": 7,
   "metadata": {},
   "outputs": [],
   "source": [
    "# Fit without reference correction\n",
    "fits.PrimaryHDU(np.einsum('ij,jkl',pinv_L,D1)).writeto('nocor.fits', overwrite=True)"
   ]
  },
  {
   "cell_type": "code",
   "execution_count": 8,
   "metadata": {},
   "outputs": [],
   "source": [
    "# Fit with SIRS correction\n",
    "fits.PrimaryHDU(np.einsum('ij,jkl',pinv_L,D2)).writeto('sirs.fits', overwrite=True)"
   ]
  },
  {
   "cell_type": "markdown",
   "metadata": {},
   "source": [
    "If the results files are examined in a FITS viewer such as SAOImage DS9, it is clear that the SIRS processed file has less banding."
   ]
  },
  {
   "cell_type": "code",
   "execution_count": null,
   "metadata": {},
   "outputs": [],
   "source": []
  }
 ],
 "metadata": {
  "kernelspec": {
   "display_name": "Python 3",
   "language": "python",
   "name": "python3"
  },
  "language_info": {
   "codemirror_mode": {
    "name": "ipython",
    "version": 3
   },
   "file_extension": ".py",
   "mimetype": "text/x-python",
   "name": "python",
   "nbconvert_exporter": "python",
   "pygments_lexer": "ipython3",
   "version": "3.6.12"
  }
 },
 "nbformat": 4,
 "nbformat_minor": 4
}
