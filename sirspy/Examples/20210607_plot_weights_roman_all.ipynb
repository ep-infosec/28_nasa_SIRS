{
 "cells": [
  {
   "cell_type": "code",
   "execution_count": 2,
   "metadata": {},
   "outputs": [],
   "source": [
    "import sirspy as sirs\n",
    "from glob import glob\n",
    "import numpy as np\n",
    "import matplotlib.pyplot as plt\n",
    "import imageio\n",
    "\n",
    "# Results go here\n",
    "odir = '/att/gpfsfs/briskfs01/ppl/brausche/Analysis/SIRS/All_Roman_Weights/'"
   ]
  },
  {
   "cell_type": "code",
   "execution_count": 3,
   "metadata": {},
   "outputs": [],
   "source": [
    "# Get SCA number from filename\n",
    "def sca_name(file):\n",
    "    return(file[83:88])"
   ]
  },
  {
   "cell_type": "code",
   "execution_count": 4,
   "metadata": {},
   "outputs": [],
   "source": [
    "# Get list of files to process\n",
    "idir = '/att/gpfsfs/briskfs01/ppl/brausche/roman_caldir/SIRS_Results_3/'\n",
    "files = glob(idir + '*.jld')"
   ]
  },
  {
   "cell_type": "code",
   "execution_count": 5,
   "metadata": {},
   "outputs": [],
   "source": [
    "# Do it\n",
    "idx = 0 # An index for naming output files\n",
    "for file in files:\n",
    "    sc = sirs.SIRS(file)\n",
    "    for op in np.arange(32):\n",
    "        ofile = odir + 'sirsplt_'+'{:03d}'.format(idx)+'.png'\n",
    "        plt = sc.plot(op, title='SCA='+sca_name(file)+', Output='+'{:02d}'.format(op))\n",
    "        plt.savefig(ofile, bbox_inches='tight', dpi=200)\n",
    "        idx += 1\n",
    "        plt.close()"
   ]
  },
  {
   "cell_type": "code",
   "execution_count": null,
   "metadata": {},
   "outputs": [],
   "source": []
  }
 ],
 "metadata": {
  "kernelspec": {
   "display_name": "bjrpy",
   "language": "python",
   "name": "bjrpy"
  },
  "language_info": {
   "codemirror_mode": {
    "name": "ipython",
    "version": 3
   },
   "file_extension": ".py",
   "mimetype": "text/x-python",
   "name": "python",
   "nbconvert_exporter": "python",
   "pygments_lexer": "ipython3",
   "version": "3.7.3"
  }
 },
 "nbformat": 4,
 "nbformat_minor": 4
}
