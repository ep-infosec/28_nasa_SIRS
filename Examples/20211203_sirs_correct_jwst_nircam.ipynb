{
 "cells": [
  {
   "cell_type": "code",
   "execution_count": 14,
   "id": "b6eb274b-fe7f-4dd8-8f71-764d3994fe95",
   "metadata": {},
   "outputs": [],
   "source": [
    "using Revise, Glob, FITSIO, SIRS, OMEinsum"
   ]
  },
  {
   "cell_type": "code",
   "execution_count": 5,
   "id": "2843c07a-0d7c-416d-89ee-1a0fe94ed8a0",
   "metadata": {},
   "outputs": [],
   "source": [
    "# Get list of files\n",
    "files = glob(\"*.fits\", \"/local/data/racy1/brausche/JWST/NIRCam\");"
   ]
  },
  {
   "cell_type": "code",
   "execution_count": 7,
   "id": "c3039181-b26e-48e6-85cb-af403d269e03",
   "metadata": {},
   "outputs": [],
   "source": [
    "# Read the previously computed SIRSCore\n",
    "sc = restore(\"/local/data/home/brausche/Library/JWST/NIRCam/20151217_nircam_sirs.jld\");"
   ]
  },
  {
   "cell_type": "code",
   "execution_count": 15,
   "id": "a651ae2c-f9f6-46fe-aeac-dd0eabb5c385",
   "metadata": {},
   "outputs": [],
   "source": [
    "#= To see the effect, it will be good to fit straight lines. Instantiate\n",
    "some Legendre matrices for fitting. I know from looking at the files that\n",
    "there are 108 samples up-the-ramp. =#\n",
    "Λ = LegendreMatrices((108,2)) # (NFRAMES, Num. fit params);"
   ]
  },
  {
   "cell_type": "code",
   "execution_count": 36,
   "id": "0edddce0-1b14-49e1-85fd-70fe42e7ccfa",
   "metadata": {},
   "outputs": [],
   "source": [
    "slope = Array{Float32,3}(undef, (2048,2048,length(files)))\n",
    "idx = 1\n",
    "for file in files\n",
    " \n",
    "    # Get some data\n",
    "    f = FITS(file, \"r\")\n",
    "    D = Float64.(read(f[1]))\n",
    "    close(f)\n",
    "        \n",
    "    # SIRS Correct\n",
    "    sirssub!(sc, D)\n",
    "    \n",
    "    # Fit straight lines\n",
    "    slope[:,:,idx] = ein\"ij,klj->kli\"(Λ.pinv_B, D)[:,:,2] # Keep just slope\n",
    "    idx += 1\n",
    "    \n",
    "end\n",
    ";"
   ]
  },
  {
   "cell_type": "code",
   "execution_count": 37,
   "id": "29b8e904-2b93-4dcf-b026-5fbc935f4231",
   "metadata": {},
   "outputs": [],
   "source": [
    "# Save results\n",
    "f = FITS(ENV[\"HOME\"]*\"/tmp/slope_trad.fits\", \"w\")\n",
    "write(f, slope)\n",
    "close(f)"
   ]
  },
  {
   "cell_type": "code",
   "execution_count": null,
   "id": "25b4830c-4cc6-4452-a7ba-63c6b57a5fa6",
   "metadata": {},
   "outputs": [],
   "source": []
  }
 ],
 "metadata": {
  "kernelspec": {
   "display_name": "Julia 1.6.3",
   "language": "julia",
   "name": "julia-1.6"
  },
  "language_info": {
   "file_extension": ".jl",
   "mimetype": "application/julia",
   "name": "julia",
   "version": "1.6.3"
  }
 },
 "nbformat": 4,
 "nbformat_minor": 5
}
