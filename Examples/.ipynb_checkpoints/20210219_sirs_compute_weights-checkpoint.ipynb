{
 "cells": [
  {
   "cell_type": "code",
   "execution_count": 125,
   "id": "empirical-audio",
   "metadata": {},
   "outputs": [],
   "source": [
    "# Load standard packages\n",
    "using Revise\n",
    "using Glob\n",
    "using Plots\n",
    "using FITSIO\n",
    "using LaTeXStrings\n",
    "using JLD\n",
    "\n",
    "# Load my packages\n",
    "using SIRS\n",
    "\n",
    "# Might be useful again...\n",
    "# using Dierckx\n",
    "# using StatsBase\n",
    "# using FFTW\n",
    "# using LinearAlgebra\n",
    "# using HxRG\n",
    "# using Profile"
   ]
  },
  {
   "cell_type": "code",
   "execution_count": 126,
   "id": "hawaiian-footwear",
   "metadata": {},
   "outputs": [],
   "source": [
    "# Define constants\n",
    "\n",
    "prop = 6.33425e-5; # Discard this proportion of samples when computing\n",
    "                   # robust statistics. Corresponds to 4-sigma for a\n",
    "                   # normal distribution\n",
    "\n",
    "# The input data are here\n",
    "ddir = ENV[\"ROMAN_HOME\"] *\n",
    "            \"H4RG/HyC/20663_20666_20669_20496/\"\n",
    "\n",
    "# The results go here\n",
    "rdir = \"/local/data/home/brausche/Analysis/Roman/SIRS/20663/\";"
   ]
  },
  {
   "cell_type": "code",
   "execution_count": 127,
   "id": "double-distinction",
   "metadata": {},
   "outputs": [],
   "source": [
    "# Get operable pixel mask for this SCA\n",
    "f = FITS(ENV[\"ROMAN_HOME\"] *\n",
    "            \"H4RG/aux/results_flight_detectors/20663/operability/\" *\n",
    "                \"operational_mask_20663.fits\")\n",
    "gdpx = Int64.(read(f[2]))\n",
    "close(f);"
   ]
  },
  {
   "cell_type": "code",
   "execution_count": 128,
   "id": "basic-effect",
   "metadata": {},
   "outputs": [],
   "source": [
    "# Make a list of the input files. The order does not matter for this.\n",
    "files = glob(\"*_90k_1p1m0p1_noise_20663_*.fits\", ddir);"
   ]
  },
  {
   "cell_type": "code",
   "execution_count": 129,
   "id": "overall-prediction",
   "metadata": {},
   "outputs": [],
   "source": [
    "# Instantiate a SIRSCore structure. From looking at the FITS headers,\n",
    "# I know that the data have 60 samples up-the-ramp.\n",
    "sc = SIRSCore(60, gdpx);"
   ]
  },
  {
   "cell_type": "code",
   "execution_count": null,
   "id": "sufficient-graphics",
   "metadata": {},
   "outputs": [],
   "source": [
    "# This cell is very time consuming. Run time is currently about 30 seconds per frame of data.\n",
    "# For 105 files, the estimated running time on gs66-racy is \n",
    "\n",
    "clear!(sc) # Preemptively clear SIRScore. Sometimes I run this cell more than once.\n",
    "for file in files\n",
    "   \n",
    "    # Work with ADAPT format files.\n",
    "    # Don't worry about DCL format for now.\n",
    "    f = FITS(file, \"r\")\n",
    "    D = Float64.(dropdims(read(f[2]), dims=4))\n",
    "    close(f)\n",
    "    \n",
    "    # Coadd\n",
    "    @time coadd!(sc, D)\n",
    "\n",
    "end"
   ]
  },
  {
   "cell_type": "code",
   "execution_count": null,
   "id": "continental-today",
   "metadata": {},
   "outputs": [],
   "source": [
    "# Solve for alpha and beta\n",
    "solve!(sc);"
   ]
  },
  {
   "cell_type": "markdown",
   "id": "narrow-messaging",
   "metadata": {},
   "source": [
    "Make some plots showing the behavior at low and high frequency."
   ]
  },
  {
   "cell_type": "code",
   "execution_count": null,
   "id": "british-thickness",
   "metadata": {},
   "outputs": [],
   "source": [
    "op = 2\n",
    "xlims = (0,730) # DC to Nyquist on the row rate\n",
    "#xlims = (10^5-730,10^5)\n",
    "ylims = [(-.02,1.2) (-π,+π)]\n",
    "alpha = plot(sc.𝒇, [abs.(sc.α)[:,op], angle.(sc.α)[:,op]],\n",
    "    layout=(2,1),\n",
    "    xlims=xlims,\n",
    "    ylims=ylims,\n",
    "    title=[L\"\\alpha: {\\rm Output\\#~ %$op}\" \"\"],\n",
    "    xlabel=[\"\" \"Frequency (Hz)\"],\n",
    "    ylabel=[\"Amplitude\" \"Phase\"],\n",
    "    link=:x,\n",
    "    legend=:false,\n",
    "    color=1)"
   ]
  },
  {
   "cell_type": "code",
   "execution_count": null,
   "id": "smooth-grass",
   "metadata": {},
   "outputs": [],
   "source": [
    "savefig(alpha, rdir*\"20210219_alpha.pdf\")"
   ]
  },
  {
   "cell_type": "code",
   "execution_count": null,
   "id": "valid-crowd",
   "metadata": {},
   "outputs": [],
   "source": [
    "beta = plot(sc.𝒇, [abs.(sc.β)[:,op], angle.(sc.β)[:,op]],\n",
    "    layout=(2,1),\n",
    "    xlims=xlims,\n",
    "    ylims=ylims,\n",
    "    title=[L\"\\beta: {\\rm Output\\#~ %$op}\" \"\"],\n",
    "    xlabel=[\"\" \"Frequency (Hz)\"],\n",
    "    ylabel=[\"Amplitude\" \"Phase\"],\n",
    "    link=:x,\n",
    "    legend=:false,\n",
    "    color=2)"
   ]
  },
  {
   "cell_type": "code",
   "execution_count": null,
   "id": "fallen-toddler",
   "metadata": {},
   "outputs": [],
   "source": [
    "savefig(beta, rdir*\"20210219_beta.pdf\")"
   ]
  },
  {
   "cell_type": "markdown",
   "id": "accredited-aquatic",
   "metadata": {},
   "source": [
    "Save our work"
   ]
  },
  {
   "cell_type": "code",
   "execution_count": null,
   "id": "powerful-provision",
   "metadata": {},
   "outputs": [],
   "source": [
    "save(rdir*\"20210219_20663_alpha_beta.jld\", \"freq\", sc.𝒇, \"alpha\", sc.α, \"beta\", sc.β)"
   ]
  }
 ],
 "metadata": {
  "kernelspec": {
   "display_name": "Julia 1.5.3",
   "language": "julia",
   "name": "julia-1.5"
  },
  "language_info": {
   "file_extension": ".jl",
   "mimetype": "application/julia",
   "name": "julia",
   "version": "1.5.3"
  }
 },
 "nbformat": 4,
 "nbformat_minor": 5
}
